{
 "cells": [
  {
   "cell_type": "code",
   "execution_count": 2,
   "metadata": {},
   "outputs": [],
   "source": [
    "import datetime\r\n",
    "import time"
   ]
  },
  {
   "cell_type": "code",
   "execution_count": 3,
   "metadata": {},
   "outputs": [
    {
     "name": "stdout",
     "output_type": "stream",
     "text": [
      "Working\n",
      "Working\n",
      "Working\n",
      "Working\n",
      "Working\n",
      "Working\n",
      "Working\n",
      "Working\n",
      "Working\n",
      "Working\n",
      "Working\n",
      "Working\n",
      "Working\n",
      "Working\n",
      "Working\n",
      "Working\n",
      "Working\n",
      "Working\n",
      "Working\n",
      "Working\n",
      "Working\n",
      "Working\n",
      "Working\n",
      "Working\n",
      "Working\n",
      "Working\n",
      "Working\n",
      "Working\n",
      "Working\n",
      "Working\n",
      "Working\n",
      "Working\n",
      "Working\n",
      "Working\n",
      "Working\n",
      "Working\n",
      "Working\n",
      "Working\n",
      "Working\n",
      "Working\n",
      "Working\n",
      "Working\n",
      "Working\n",
      "Working\n",
      "Working\n",
      "Working\n",
      "Working\n",
      "Working\n",
      "Working\n",
      "Working\n",
      "Working\n",
      "Working\n",
      "Working\n",
      "Working\n",
      "Working\n",
      "Working\n",
      "Working\n",
      "Working\n",
      "Working\n",
      "Working\n"
     ]
    }
   ],
   "source": [
    "true = True\r\n",
    "\r\n",
    "now_plus_5 = datetime.datetime.now() + datetime.timedelta(minutes = 1)\r\n",
    "while datetime.datetime.now()<= now_plus_5 and true:\r\n",
    "    print(\"Working\")\r\n",
    "    time.sleep(1)\r\n"
   ]
  },
  {
   "cell_type": "code",
   "execution_count": 1,
   "metadata": {},
   "outputs": [],
   "source": [
    "def abc():\r\n",
    "    print(\"ok\")"
   ]
  },
  {
   "cell_type": "code",
   "execution_count": 3,
   "metadata": {},
   "outputs": [
    {
     "data": {
      "text/plain": [
       "'abc'"
      ]
     },
     "execution_count": 3,
     "metadata": {},
     "output_type": "execute_result"
    }
   ],
   "source": [
    "abc.__name__"
   ]
  },
  {
   "cell_type": "code",
   "execution_count": null,
   "metadata": {},
   "outputs": [],
   "source": [
    "<function abc at 0x00000207FB1C0550>."
   ]
  }
 ],
 "metadata": {
  "interpreter": {
   "hash": "25e2a8ee8c7bb164196f165366d6a6c6a3cd2260680e5087a26416e6138ee39b"
  },
  "kernelspec": {
   "display_name": "Python 3.9.4 64-bit",
   "name": "python3"
  },
  "language_info": {
   "codemirror_mode": {
    "name": "ipython",
    "version": 3
   },
   "file_extension": ".py",
   "mimetype": "text/x-python",
   "name": "python",
   "nbconvert_exporter": "python",
   "pygments_lexer": "ipython3",
   "version": "3.9.4"
  },
  "orig_nbformat": 4
 },
 "nbformat": 4,
 "nbformat_minor": 2
}