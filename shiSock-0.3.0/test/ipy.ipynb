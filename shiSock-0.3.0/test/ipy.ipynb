{
 "cells": [
  {
   "cell_type": "code",
   "execution_count": 46,
   "source": [
    "import pickle\r\n",
    "import base64\r\n",
    "from cryptography.hazmat.backends import default_backend\r\n",
    "from cryptography.hazmat.primitives.ciphers.aead import AESGCM\r\n",
    "from cryptography.hazmat.primitives.asymmetric import rsa\r\n",
    "from cryptography.hazmat.primitives import serialization\r\n",
    "from cryptography.hazmat.primitives.serialization import load_ssh_public_key\r\n",
    "from cryptography.hazmat.primitives import hashes\r\n",
    "from cryptography.hazmat.primitives.asymmetric import padding\r\n",
    "from cryptography.hazmat.backends import default_backend"
   ],
   "outputs": [],
   "metadata": {}
  },
  {
   "cell_type": "code",
   "execution_count": 3,
   "source": [
    "class test():\r\n",
    "    def __init__(self,name):\r\n",
    "        print(\"Working\")\r\n",
    "        self.name = name\r\n",
    "\r\n",
    "    def show(self):\r\n",
    "        print(f\"  {self.name}  |\"*10)\r\n"
   ],
   "outputs": [],
   "metadata": {}
  },
  {
   "cell_type": "code",
   "execution_count": 8,
   "source": [
    "s = test(\"Shikhar\")\r\n",
    "s.name\r\n",
    "s.show()"
   ],
   "outputs": [
    {
     "output_type": "stream",
     "name": "stdout",
     "text": [
      "Working\n",
      "  Shikhar  |  Shikhar  |  Shikhar  |  Shikhar  |  Shikhar  |  Shikhar  |  Shikhar  |  Shikhar  |  Shikhar  |  Shikhar  |\n"
     ]
    }
   ],
   "metadata": {}
  },
  {
   "cell_type": "code",
   "execution_count": 38,
   "source": [
    "# @jit()\r\n",
    "def dumps_obj(obj):\r\n",
    "    return pickle.dumps(obj)\r\n",
    "\r\n",
    "q = dumps_obj(test)"
   ],
   "outputs": [],
   "metadata": {}
  },
  {
   "cell_type": "code",
   "execution_count": 45,
   "source": [
    "p = pickle.loads(q)\r\n",
    "t = p(\"Shikhar\")"
   ],
   "outputs": [
    {
     "output_type": "stream",
     "name": "stdout",
     "text": [
      "Working\n"
     ]
    }
   ],
   "metadata": {}
  },
  {
   "cell_type": "code",
   "execution_count": 85,
   "source": [
    "arr = np.array([[\"shikhar\",45],[\"swat\",98],[\"varsha\",1924],[\"akshat\",1024],[\"adarsh\",89]])\r\n",
    "arr"
   ],
   "outputs": [
    {
     "output_type": "execute_result",
     "data": {
      "text/plain": [
       "array([['shikhar', '45'],\n",
       "       ['swat', '98'],\n",
       "       ['varsha', '1924'],\n",
       "       ['akshat', '1024'],\n",
       "       ['adarsh', '89']], dtype='<U11')"
      ]
     },
     "metadata": {},
     "execution_count": 85
    }
   ],
   "metadata": {}
  },
  {
   "cell_type": "code",
   "execution_count": 107,
   "source": [
    "# @jit()\r\n",
    "def find_index(arr,name):\r\n",
    "    list(arr)\r\n",
    "    \r\n",
    "    "
   ],
   "outputs": [],
   "metadata": {}
  },
  {
   "cell_type": "code",
   "execution_count": 122,
   "source": [
    "data = \"aaskjjcbdabckb\"*86\r\n",
    "\r\n",
    "qw = bytes(str(len(data)).center(32,\"-\"),\"utf-8\")\r\n",
    "qw\r\n"
   ],
   "outputs": [
    {
     "output_type": "execute_result",
     "data": {
      "text/plain": [
       "b'--------------1204--------------'"
      ]
     },
     "metadata": {},
     "execution_count": 122
    }
   ],
   "metadata": {}
  },
  {
   "cell_type": "code",
   "execution_count": 124,
   "source": [
    "int(qw.decode().strip(\"-\"))"
   ],
   "outputs": [
    {
     "output_type": "execute_result",
     "data": {
      "text/plain": [
       "1204"
      ]
     },
     "metadata": {},
     "execution_count": 124
    }
   ],
   "metadata": {}
  },
  {
   "cell_type": "code",
   "execution_count": 125,
   "source": [
    "import sys"
   ],
   "outputs": [],
   "metadata": {}
  },
  {
   "cell_type": "code",
   "execution_count": 130,
   "source": [
    "def run():\r\n",
    "    count = 0\r\n",
    "    while True:\r\n",
    "        count += 1\r\n",
    "        print(count)\r\n",
    "        if count == 10:\r\n",
    "            sys.exit()\r\n",
    "\r\n",
    "run()"
   ],
   "outputs": [
    {
     "output_type": "stream",
     "name": "stdout",
     "text": [
      "1\n",
      "2\n",
      "3\n",
      "4\n",
      "5\n",
      "6\n",
      "7\n",
      "8\n",
      "9\n",
      "10\n"
     ]
    },
    {
     "output_type": "error",
     "ename": "SystemExit",
     "evalue": "",
     "traceback": [
      "An exception has occurred, use %tb to see the full traceback.\n",
      "\u001b[1;31mSystemExit\u001b[0m\n"
     ]
    }
   ],
   "metadata": {}
  },
  {
   "cell_type": "code",
   "execution_count": 131,
   "source": [
    "lst = [1,2,3]\r\n",
    "if type(lst) is type([]):\r\n",
    "    print(\"okk\")\r\n",
    "else:\r\n",
    "    print(\"not okk\")"
   ],
   "outputs": [
    {
     "output_type": "stream",
     "name": "stdout",
     "text": [
      "okk\n"
     ]
    }
   ],
   "metadata": {}
  },
  {
   "cell_type": "code",
   "execution_count": 4,
   "source": [
    "name = b\"Shikhar Yadav\"\r\n",
    "\r\n",
    "qw = str(len(name)).center(16,\"|\").encode(\"utf-8\")\r\n",
    "print(qw)\r\n",
    "qwe = int(qw.decode().strip(\"|\"))\r\n",
    "print(qwe)\r\n"
   ],
   "outputs": [
    {
     "output_type": "stream",
     "name": "stdout",
     "text": [
      "b'|||||||13|||||||'\n",
      "13\n"
     ]
    }
   ],
   "metadata": {}
  },
  {
   "cell_type": "code",
   "execution_count": 6,
   "source": [
    "import queue"
   ],
   "outputs": [],
   "metadata": {}
  },
  {
   "cell_type": "markdown",
   "source": [],
   "metadata": {}
  },
  {
   "cell_type": "code",
   "execution_count": 13,
   "source": [
    "qw = {}\r\n",
    "qw[\"shikhar\"] = queue.Queue()\r\n",
    "qw[\"shikhar\"].put(\"name\")\r\n",
    "qw[\"shikhar\"].put(\"yadav\")\r\n",
    "qw[\"shikhar\"].empty()"
   ],
   "outputs": [
    {
     "output_type": "execute_result",
     "data": {
      "text/plain": [
       "False"
      ]
     },
     "metadata": {},
     "execution_count": 13
    }
   ],
   "metadata": {}
  },
  {
   "cell_type": "code",
   "execution_count": 16,
   "source": [
    "s = b'gASVJAAAAAAAAACMIDAwMDAwMDAwMDAw'\r\n",
    "s = base64.b64decode(s)\r\n",
    "s = pickle.loads(s)\r\n",
    "print(s)"
   ],
   "outputs": [
    {
     "output_type": "error",
     "ename": "UnpicklingError",
     "evalue": "pickle data was truncated",
     "traceback": [
      "\u001b[1;31m---------------------------------------------------------------------------\u001b[0m",
      "\u001b[1;31mUnpicklingError\u001b[0m                           Traceback (most recent call last)",
      "\u001b[1;32m~\\AppData\\Local\\Temp/ipykernel_9260/32204382.py\u001b[0m in \u001b[0;36m<module>\u001b[1;34m\u001b[0m\n\u001b[0;32m      1\u001b[0m \u001b[0ms\u001b[0m \u001b[1;33m=\u001b[0m \u001b[1;34mb'gASVJAAAAAAAAACMIDAwMDAwMDAwMDAw'\u001b[0m\u001b[1;33m\u001b[0m\u001b[1;33m\u001b[0m\u001b[0m\n\u001b[0;32m      2\u001b[0m \u001b[0ms\u001b[0m \u001b[1;33m=\u001b[0m \u001b[0mbase64\u001b[0m\u001b[1;33m.\u001b[0m\u001b[0mb64decode\u001b[0m\u001b[1;33m(\u001b[0m\u001b[0ms\u001b[0m\u001b[1;33m)\u001b[0m\u001b[1;33m\u001b[0m\u001b[1;33m\u001b[0m\u001b[0m\n\u001b[1;32m----> 3\u001b[1;33m \u001b[0ms\u001b[0m \u001b[1;33m=\u001b[0m \u001b[0mpickle\u001b[0m\u001b[1;33m.\u001b[0m\u001b[0mloads\u001b[0m\u001b[1;33m(\u001b[0m\u001b[0ms\u001b[0m\u001b[1;33m)\u001b[0m\u001b[1;33m\u001b[0m\u001b[1;33m\u001b[0m\u001b[0m\n\u001b[0m\u001b[0;32m      4\u001b[0m \u001b[0mprint\u001b[0m\u001b[1;33m(\u001b[0m\u001b[0ms\u001b[0m\u001b[1;33m)\u001b[0m\u001b[1;33m\u001b[0m\u001b[1;33m\u001b[0m\u001b[0m\n",
      "\u001b[1;31mUnpicklingError\u001b[0m: pickle data was truncated"
     ]
    }
   ],
   "metadata": {}
  },
  {
   "cell_type": "code",
   "execution_count": 3,
   "source": [
    "\"shikhar\".center(12,\"=\")"
   ],
   "outputs": [
    {
     "output_type": "execute_result",
     "data": {
      "text/plain": [
       "'==shikhar==='"
      ]
     },
     "metadata": {},
     "execution_count": 3
    }
   ],
   "metadata": {}
  },
  {
   "cell_type": "code",
   "execution_count": 20,
   "source": [
    "w  ={\"a\",\"b\",\"c\",\"d\",\"e\",\"f\"}\r\n",
    "w.remove(\"a\")\r\n",
    "w"
   ],
   "outputs": [
    {
     "output_type": "execute_result",
     "data": {
      "text/plain": [
       "{'b', 'c', 'd', 'e', 'f'}"
      ]
     },
     "metadata": {},
     "execution_count": 20
    }
   ],
   "metadata": {}
  },
  {
   "cell_type": "code",
   "execution_count": 12,
   "source": [
    "def abc(position : int(1,2,) = None):\r\n",
    "    print(position)\r\n",
    "\r\n",
    "abc([1,2])"
   ],
   "outputs": [
    {
     "output_type": "error",
     "ename": "TypeError",
     "evalue": "int() can't convert non-string with explicit base",
     "traceback": [
      "\u001b[1;31m---------------------------------------------------------------------------\u001b[0m",
      "\u001b[1;31mTypeError\u001b[0m                                 Traceback (most recent call last)",
      "\u001b[1;32m~\\AppData\\Local\\Temp/ipykernel_15796/686537587.py\u001b[0m in \u001b[0;36m<module>\u001b[1;34m\u001b[0m\n\u001b[1;32m----> 1\u001b[1;33m \u001b[1;32mdef\u001b[0m \u001b[0mabc\u001b[0m\u001b[1;33m(\u001b[0m\u001b[0mposition\u001b[0m \u001b[1;33m:\u001b[0m \u001b[0mint\u001b[0m\u001b[1;33m(\u001b[0m\u001b[1;36m1\u001b[0m\u001b[1;33m,\u001b[0m\u001b[1;36m2\u001b[0m\u001b[1;33m,\u001b[0m\u001b[1;33m)\u001b[0m \u001b[1;33m=\u001b[0m \u001b[1;32mNone\u001b[0m\u001b[1;33m)\u001b[0m\u001b[1;33m:\u001b[0m\u001b[1;33m\u001b[0m\u001b[1;33m\u001b[0m\u001b[0m\n\u001b[0m\u001b[0;32m      2\u001b[0m     \u001b[0mprint\u001b[0m\u001b[1;33m(\u001b[0m\u001b[0mposition\u001b[0m\u001b[1;33m)\u001b[0m\u001b[1;33m\u001b[0m\u001b[1;33m\u001b[0m\u001b[0m\n\u001b[0;32m      3\u001b[0m \u001b[1;33m\u001b[0m\u001b[0m\n\u001b[0;32m      4\u001b[0m \u001b[0mabc\u001b[0m\u001b[1;33m(\u001b[0m\u001b[1;33m[\u001b[0m\u001b[1;36m1\u001b[0m\u001b[1;33m,\u001b[0m\u001b[1;36m2\u001b[0m\u001b[1;33m]\u001b[0m\u001b[1;33m)\u001b[0m\u001b[1;33m\u001b[0m\u001b[1;33m\u001b[0m\u001b[0m\n",
      "\u001b[1;31mTypeError\u001b[0m: int() can't convert non-string with explicit base"
     ]
    }
   ],
   "metadata": {}
  },
  {
   "cell_type": "code",
   "execution_count": 6,
   "source": [
    "check = {\"x\": [\"a\",\"b\"],\"y\" : [\"ua\",\"b\"], \"z\" : [\"a\",\"b\"]}\r\n",
    "lst = {}\r\n",
    "values = list(check.values())\r\n",
    "keys = list(check.keys())\r\n",
    "\r\n",
    "for i,d in enumerate(values):\r\n",
    "    if d[0] == \"a\":\r\n",
    "        key = keys[i]\r\n",
    "        lst[key] = check[key]\r\n",
    "\r\n",
    "print(lst)"
   ],
   "outputs": [
    {
     "output_type": "stream",
     "name": "stdout",
     "text": [
      "{'x': ['a', 'b'], 'z': ['a', 'b']}\n"
     ]
    }
   ],
   "metadata": {}
  },
  {
   "cell_type": "code",
   "execution_count": 45,
   "source": [
    "key = list(zip(*check.keys()))[0]\r\n",
    "\r\n",
    "if hs in key:\r\n",
    "    if check[hs][0] == \"a\":\r\n",
    "        print(True)\r\n",
    "    else:\r\n",
    "        print(False)"
   ],
   "outputs": [
    {
     "output_type": "stream",
     "name": "stdout",
     "text": [
      "False\n"
     ]
    }
   ],
   "metadata": {}
  },
  {
   "cell_type": "code",
   "execution_count": 48,
   "source": [
    "__code_002_srt_key = rsa.generate_private_key(\r\n",
    "    public_exponent=65537,\r\n",
    "    key_size=2048,\r\n",
    "    backend=default_backend()\r\n",
    ")\r\n",
    "__code_002_pub_key = __code_002_srt_key.public_key()\r\n",
    "str_code_002_pub_key = __code_002_pub_key.public_bytes(\r\n",
    "    serialization.Encoding.OpenSSH,\r\n",
    "    serialization.PublicFormat.OpenSSH\r\n",
    ").decode()\r\n",
    "str_code_002_pub_key"
   ],
   "outputs": [
    {
     "output_type": "execute_result",
     "data": {
      "text/plain": [
       "'ssh-rsa AAAAB3NzaC1yc2EAAAADAQABAAABAQCe4QR6+TSMo3eg0SaZJNKEsL4LGMBVoc35MmaOOwpGsqy93PWmrEdBYqgqoc6QL45vStqsym196rDBSRRBs3e4wN2ZXBPFQuLGIVpLUzzERK2rvNpVnB99GhQbJYpWFaqH4bkJv+rMgMt86VHqq8kbKrJT/KeMzIPHwlUYg0XD8dLkxBGwxhDboAOJelxCwtf6LsmAimVcnWdBAYXxAr/PoOTavpLl5O3tCTRRcNlT9P4mYTvg59ol9p2FvBP/gHB43UfKhVGVvEa4WwOA4HXS8eKhXiRPF5nMkGW9xiJsclW6eRS/HMaNtQrLt8QTUWWtorhD01HT1+335VaLPFKR'"
      ]
     },
     "metadata": {},
     "execution_count": 48
    }
   ],
   "metadata": {}
  },
  {
   "cell_type": "code",
   "execution_count": 1,
   "source": [
    "class DspError(Exception):\r\n",
    "    def __init__(self,err_msg):\r\n",
    "        print(err_msg)\r\n",
    "\r\n",
    "if True:\r\n",
    "    raise DspError(\"Something went wrong!\")"
   ],
   "outputs": [
    {
     "output_type": "stream",
     "name": "stdout",
     "text": [
      "Something went wrong!\n"
     ]
    },
    {
     "output_type": "error",
     "ename": "DspError",
     "evalue": "Something went wrong!",
     "traceback": [
      "\u001b[1;31m---------------------------------------------------------------------------\u001b[0m",
      "\u001b[1;31mDspError\u001b[0m                                  Traceback (most recent call last)",
      "\u001b[1;32m~\\AppData\\Local\\Temp/ipykernel_8172/3517789729.py\u001b[0m in \u001b[0;36m<module>\u001b[1;34m\u001b[0m\n\u001b[0;32m      4\u001b[0m \u001b[1;33m\u001b[0m\u001b[0m\n\u001b[0;32m      5\u001b[0m \u001b[1;32mif\u001b[0m \u001b[1;32mTrue\u001b[0m\u001b[1;33m:\u001b[0m\u001b[1;33m\u001b[0m\u001b[1;33m\u001b[0m\u001b[0m\n\u001b[1;32m----> 6\u001b[1;33m     \u001b[1;32mraise\u001b[0m \u001b[0mDspError\u001b[0m\u001b[1;33m(\u001b[0m\u001b[1;34m\"Something went wrong!\"\u001b[0m\u001b[1;33m)\u001b[0m\u001b[1;33m\u001b[0m\u001b[1;33m\u001b[0m\u001b[0m\n\u001b[0m",
      "\u001b[1;31mDspError\u001b[0m: Something went wrong!"
     ]
    }
   ],
   "metadata": {}
  },
  {
   "cell_type": "code",
   "execution_count": 1,
   "source": [
    "import hashlib\r\n",
    "import pickle\r\n",
    "import base64\r\n",
    "import time\r\n"
   ],
   "outputs": [],
   "metadata": {}
  },
  {
   "cell_type": "code",
   "execution_count": 106,
   "source": [
    "s = pickle.dumps(pickle.dumps)\r\n",
    "print(s)"
   ],
   "outputs": [
    {
     "output_type": "stream",
     "name": "stdout",
     "text": [
      "b'\\x80\\x04\\x95\\x15\\x00\\x00\\x00\\x00\\x00\\x00\\x00\\x8c\\x07_pickle\\x94\\x8c\\x05dumps\\x94\\x93\\x94.'\n"
     ]
    }
   ],
   "metadata": {}
  },
  {
   "cell_type": "code",
   "execution_count": 107,
   "source": [
    "qw = pickle.loads(s)\r\n",
    "\r\n"
   ],
   "outputs": [],
   "metadata": {}
  },
  {
   "cell_type": "code",
   "execution_count": 108,
   "source": [
    "a = qw(\"shikhar\")"
   ],
   "outputs": [],
   "metadata": {}
  },
  {
   "cell_type": "code",
   "execution_count": 110,
   "source": [
    "pickle.loads(a)"
   ],
   "outputs": [
    {
     "output_type": "execute_result",
     "data": {
      "text/plain": [
       "'shikhar'"
      ]
     },
     "metadata": {},
     "execution_count": 110
    }
   ],
   "metadata": {}
  },
  {
   "cell_type": "code",
   "execution_count": 12,
   "source": [
    "s = b'gASVdgAAAAAAAAB9lCiMB2Flc19rZXmUQyC+C40eBpXDXi2bFetbDNTwz2zvNR6ICg9A2unr0WNvVJSMBW5vbmNllEMggeZO8j6iSh+xhvFytKY7uvkT6f5aossE/7tGlL+6dHWUjANhYWSUQxBxc1AwT0V0QSU1b2MkeUNwlHUu'\r\n",
    "s = pickle.loads(base64.b64decode(s))\r\n",
    "print(s)\r\n"
   ],
   "outputs": [
    {
     "output_type": "stream",
     "name": "stdout",
     "text": [
      "{'aes_key': b'\\xbe\\x0b\\x8d\\x1e\\x06\\x95\\xc3^-\\x9b\\x15\\xeb[\\x0c\\xd4\\xf0\\xcfl\\xef5\\x1e\\x88\\n\\x0f@\\xda\\xe9\\xeb\\xd1coT', 'nonce': b'\\x81\\xe6N\\xf2>\\xa2J\\x1f\\xb1\\x86\\xf1r\\xb4\\xa6;\\xba\\xf9\\x13\\xe9\\xfeZ\\xa2\\xcb\\x04\\xff\\xbbF\\x94\\xbf\\xbatu', 'aad': b'qsP0OEtA%5oc$yCp'}\n"
     ]
    }
   ],
   "metadata": {}
  },
  {
   "cell_type": "code",
   "execution_count": 11,
   "source": [
    "a = {'shikhar': ['unvarified', b'gASVdgAAAAAAAAB9lCiMB2Flc19rZXmUQyAVVWbfR0Ae5+ZvSivwOBgVZYgb6pTL6L6gfPQrQfXgXZSMBW5vbmNllEMgFX5pKUE6t1hKMHBmpaWyAqCdlyKLhVhYEpnOrz73Vv6UjANhYWSUQxBpRmJ5eHIyM2UhOEpqJSZ3lHUu']}\r\n",
    "a[\"shikhar\"] = [\"varified\",a[\"shikhar\"][1]]\r\n",
    "a"
   ],
   "outputs": [
    {
     "output_type": "execute_result",
     "data": {
      "text/plain": [
       "{'shikhar': ['varified',\n",
       "  b'gASVdgAAAAAAAAB9lCiMB2Flc19rZXmUQyAVVWbfR0Ae5+ZvSivwOBgVZYgb6pTL6L6gfPQrQfXgXZSMBW5vbmNllEMgFX5pKUE6t1hKMHBmpaWyAqCdlyKLhVhYEpnOrz73Vv6UjANhYWSUQxBpRmJ5eHIyM2UhOEpqJSZ3lHUu']}"
      ]
     },
     "metadata": {},
     "execution_count": 11
    }
   ],
   "metadata": {}
  },
  {
   "cell_type": "code",
   "execution_count": null,
   "source": [
    "{\r\n",
    "    'shikhar':\r\n",
    "    [\r\n",
    "        'varified', \r\n",
    "        b'gASVdgAAAAAAAAB9lCiMB2Flc19rZXmUQyDvtmzOhphkQ0tXByrlfo0f8TF+jYzo+zDD26cBBoLgyZSMBW5vbmNllEMgM2db2+UlVJByv181p+lKNH9qnSgffU5DWgBn9m8j4WuUjANhYWSUQxBqTW8qTHN5VlMhV2E2MkZklHUu'\r\n",
    "    ],\r\n",
    "    'swat': \r\n",
    "    [\r\n",
    "        'varified', \r\n",
    "        b'gASVdgAAAAAAAAB9lCiMB2Flc19rZXmUQyBQXzWyRC3lUu/5KmaSvVCjNNojrAfKVnqzfgr+P4sPf5SMBW5vbmNllEMgYTaYg6L9WmffJ1TevirpURKGspYDqmoec/L1/or8gb6UjANhYWSUQxBCdjY3bnlLakB1P2RFbCFWlHUu'\r\n",
    "    ]\r\n",
    "}"
   ],
   "outputs": [],
   "metadata": {}
  },
  {
   "cell_type": "code",
   "execution_count": null,
   "source": [],
   "outputs": [],
   "metadata": {}
  },
  {
   "cell_type": "code",
   "execution_count": 7,
   "source": [
    "import time\r\n",
    "import random"
   ],
   "outputs": [
    {
     "output_type": "execute_result",
     "data": {
      "text/plain": [
       "37"
      ]
     },
     "metadata": {},
     "execution_count": 7
    }
   ],
   "metadata": {}
  },
  {
   "cell_type": "code",
   "execution_count": 31,
   "source": [
    "# def sumOfTwo(lst1,lst2,target):\r\n",
    "#     for n1 in lst1:\r\n",
    "#         for n2 in lst2:\r\n",
    "#             if n1+n2 == target:\r\n",
    "#                 return True\r\n",
    "\r\n",
    "def sumOfTwo(lst1,lst2,target):\r\n",
    "    for n1 in lst1:\r\n",
    "        if target-n1 in lst2:\r\n",
    "            return True"
   ],
   "outputs": [],
   "metadata": {}
  },
  {
   "cell_type": "code",
   "execution_count": 47,
   "source": [
    "lst1 = random.sample(range(9,9999),8999)\r\n",
    "lst2 = random.sample(range(9,4399),3000)\r\n",
    "target = 12786\r\n",
    "s = time.time()\r\n",
    "q = sumOfTwo(lst1,lst2,target)\r\n",
    "print(f\"Return {q} in {time.time()-s}\")"
   ],
   "outputs": [
    {
     "output_type": "stream",
     "name": "stdout",
     "text": [
      "Return True in 0.0\n"
     ]
    }
   ],
   "metadata": {}
  },
  {
   "cell_type": "code",
   "execution_count": 55,
   "source": [
    "q = list(\"aaabcdaacd\")\r\n",
    "def findlone(q):\r\n",
    "    q.sort()\r\n",
    "    print(q)\r\n",
    "    di = {}\r\n",
    "    for char in q:\r\n",
    "        di[char] = q.count(char)\r\n",
    "findlone(q)\r\n"
   ],
   "outputs": [
    {
     "output_type": "stream",
     "name": "stdout",
     "text": [
      "['a', 'a', 'a', 'a', 'a', 'b', 'c', 'c', 'd', 'd']\n"
     ]
    }
   ],
   "metadata": {}
  },
  {
   "cell_type": "code",
   "execution_count": 54,
   "source": [
    "w = [1,2,3,4,2]\r\n",
    "w.sort()\r\n",
    "w"
   ],
   "outputs": [
    {
     "output_type": "execute_result",
     "data": {
      "text/plain": [
       "[1, 2, 2, 3, 4]"
      ]
     },
     "metadata": {},
     "execution_count": 54
    }
   ],
   "metadata": {}
  },
  {
   "cell_type": "code",
   "execution_count": 21,
   "source": [
    "from cryptography.hazmat.backends import default_backend\r\n",
    "from cryptography.hazmat.primitives.ciphers.aead import AESGCM\r\n",
    "from cryptography.hazmat.primitives.asymmetric import rsa\r\n",
    "from cryptography.hazmat.primitives import serialization\r\n",
    "from cryptography.hazmat.primitives.serialization import load_ssh_public_key\r\n",
    "from cryptography.hazmat.primitives import hashes\r\n",
    "from cryptography.hazmat.primitives.asymmetric import padding\r\n",
    "from cryptography.hazmat.backends import default_backend\r\n",
    "import os\r\n",
    "import base64\r\n",
    "import pickle"
   ],
   "outputs": [],
   "metadata": {}
  },
  {
   "cell_type": "code",
   "execution_count": 66,
   "source": [
    "str_key = \"ssh-rsa AAAAB3NzaC1yc2EAAAADAQABAAABAQDXEUg0MNp623Y7U61ZSKf+QazcMrW4NW/hfyi4uGF49FaYQ2XOyxc4t5fHXVs4tbKsDcvOtIonZkDBrckraouKv77vzg4CZQG5R+JCW503gpnhFRMBcxvKRRwWAC7GsztYhOjIvpL+aVtdYjOfwiDX5+puWrj79pg/SXRgibdT6//5N0XNB/Q7Ia8wrhjNke0eLcivwnhypwLZBaGxOMKNfop8l1vZmKjqoVobe0ZB+HQQjwWZ8jNJMzf7X43SUt/1Y8l3PK+PPJfpc4jRkHRWGLOtPun9dHCtPBJ2nYObeJUShSaiNEAy0Yu11vIIwgfy4PoHDT4wkEpxXooQAjbF\"\r\n",
    "print(len(str_key))\r\n",
    "rsa_key =load_ssh_public_key(\r\n",
    "    bytes(str_key,\"utf-8\"),\r\n",
    "    backend=default_backend()\r\n",
    ")\r\n",
    "\r\n",
    "M_code002_k_pack = {\r\n",
    "    \"aes_key\" : AESGCM.generate_key(256),\r\n",
    "    \"nonce\"  : os.urandom(32),\r\n",
    "    \"_aad\" : bytes(\"hjgyuguygyguygfufuftfuftyf\",\"utf-8\")\r\n",
    "}\r\n",
    "\r\n",
    "normalized_M_code002_k_pack = base64.b64encode(pickle.dumps([\"approved\", M_code002_k_pack]))\r\n",
    "print(normalized_M_code002_k_pack)\r\n",
    "\r\n",
    "ciphertext = rsa_key.encrypt(\r\n",
    "    normalized_M_code002_k_pack,\r\n",
    "    padding.OAEP(\r\n",
    "        mgf = padding.MGF1(algorithm = hashes.SHA256()),\r\n",
    "        algorithm = hashes.SHA256(),\r\n",
    "        label = None\r\n",
    "    )\r\n",
    ")\r\n",
    "ciphertext"
   ],
   "outputs": [
    {
     "output_type": "stream",
     "name": "stdout",
     "text": [
      "380\n",
      "b'gASVkAAAAAAAAABdlCiMCGFwcHJvdmVklH2UKIwHYWVzX2tleZRDICjBHK20PGcEiFthjgsM3rYTccZ40tpZwA66+GAgfwFHlIwFbm9uY2WUQyDSdMHYeQIagPmiIT13MeJsiYbAo3qB5CMGFRx5XnKIf5SMBF9hYWSUQxpoamd5dWd1eWd5Z3V5Z2Z1ZnVmdGZ1ZnR5ZpR1ZS4='\n"
     ]
    },
    {
     "output_type": "error",
     "ename": "ValueError",
     "evalue": "Encryption/decryption failed.",
     "traceback": [
      "\u001b[1;31m---------------------------------------------------------------------------\u001b[0m",
      "\u001b[1;31mValueError\u001b[0m                                Traceback (most recent call last)",
      "\u001b[1;32m~\\AppData\\Local\\Temp/ipykernel_13696/2513260338.py\u001b[0m in \u001b[0;36m<module>\u001b[1;34m\u001b[0m\n\u001b[0;32m     15\u001b[0m \u001b[0mprint\u001b[0m\u001b[1;33m(\u001b[0m\u001b[0mnormalized_M_code002_k_pack\u001b[0m\u001b[1;33m)\u001b[0m\u001b[1;33m\u001b[0m\u001b[1;33m\u001b[0m\u001b[0m\n\u001b[0;32m     16\u001b[0m \u001b[1;33m\u001b[0m\u001b[0m\n\u001b[1;32m---> 17\u001b[1;33m ciphertext = rsa_key.encrypt(\n\u001b[0m\u001b[0;32m     18\u001b[0m     \u001b[0mnormalized_M_code002_k_pack\u001b[0m\u001b[1;33m,\u001b[0m\u001b[1;33m\u001b[0m\u001b[1;33m\u001b[0m\u001b[0m\n\u001b[0;32m     19\u001b[0m     padding.OAEP(\n",
      "\u001b[1;32mC:\\python3.9.4\\lib\\site-packages\\cryptography\\hazmat\\backends\\openssl\\rsa.py\u001b[0m in \u001b[0;36mencrypt\u001b[1;34m(self, plaintext, padding)\u001b[0m\n\u001b[0;32m    526\u001b[0m \u001b[1;33m\u001b[0m\u001b[0m\n\u001b[0;32m    527\u001b[0m     \u001b[1;32mdef\u001b[0m \u001b[0mencrypt\u001b[0m\u001b[1;33m(\u001b[0m\u001b[0mself\u001b[0m\u001b[1;33m,\u001b[0m \u001b[0mplaintext\u001b[0m\u001b[1;33m:\u001b[0m \u001b[0mbytes\u001b[0m\u001b[1;33m,\u001b[0m \u001b[0mpadding\u001b[0m\u001b[1;33m:\u001b[0m \u001b[0mAsymmetricPadding\u001b[0m\u001b[1;33m)\u001b[0m \u001b[1;33m->\u001b[0m \u001b[0mbytes\u001b[0m\u001b[1;33m:\u001b[0m\u001b[1;33m\u001b[0m\u001b[1;33m\u001b[0m\u001b[0m\n\u001b[1;32m--> 528\u001b[1;33m         \u001b[1;32mreturn\u001b[0m \u001b[0m_enc_dec_rsa\u001b[0m\u001b[1;33m(\u001b[0m\u001b[0mself\u001b[0m\u001b[1;33m.\u001b[0m\u001b[0m_backend\u001b[0m\u001b[1;33m,\u001b[0m \u001b[0mself\u001b[0m\u001b[1;33m,\u001b[0m \u001b[0mplaintext\u001b[0m\u001b[1;33m,\u001b[0m \u001b[0mpadding\u001b[0m\u001b[1;33m)\u001b[0m\u001b[1;33m\u001b[0m\u001b[1;33m\u001b[0m\u001b[0m\n\u001b[0m\u001b[0;32m    529\u001b[0m \u001b[1;33m\u001b[0m\u001b[0m\n\u001b[0;32m    530\u001b[0m     \u001b[1;32mdef\u001b[0m \u001b[0mpublic_numbers\u001b[0m\u001b[1;33m(\u001b[0m\u001b[0mself\u001b[0m\u001b[1;33m)\u001b[0m \u001b[1;33m->\u001b[0m \u001b[0mRSAPublicNumbers\u001b[0m\u001b[1;33m:\u001b[0m\u001b[1;33m\u001b[0m\u001b[1;33m\u001b[0m\u001b[0m\n",
      "\u001b[1;32mC:\\python3.9.4\\lib\\site-packages\\cryptography\\hazmat\\backends\\openssl\\rsa.py\u001b[0m in \u001b[0;36m_enc_dec_rsa\u001b[1;34m(backend, key, data, padding)\u001b[0m\n\u001b[0;32m     85\u001b[0m         )\n\u001b[0;32m     86\u001b[0m \u001b[1;33m\u001b[0m\u001b[0m\n\u001b[1;32m---> 87\u001b[1;33m     \u001b[1;32mreturn\u001b[0m \u001b[0m_enc_dec_rsa_pkey_ctx\u001b[0m\u001b[1;33m(\u001b[0m\u001b[0mbackend\u001b[0m\u001b[1;33m,\u001b[0m \u001b[0mkey\u001b[0m\u001b[1;33m,\u001b[0m \u001b[0mdata\u001b[0m\u001b[1;33m,\u001b[0m \u001b[0mpadding_enum\u001b[0m\u001b[1;33m,\u001b[0m \u001b[0mpadding\u001b[0m\u001b[1;33m)\u001b[0m\u001b[1;33m\u001b[0m\u001b[1;33m\u001b[0m\u001b[0m\n\u001b[0m\u001b[0;32m     88\u001b[0m \u001b[1;33m\u001b[0m\u001b[0m\n\u001b[0;32m     89\u001b[0m \u001b[1;33m\u001b[0m\u001b[0m\n",
      "\u001b[1;32mC:\\python3.9.4\\lib\\site-packages\\cryptography\\hazmat\\backends\\openssl\\rsa.py\u001b[0m in \u001b[0;36m_enc_dec_rsa_pkey_ctx\u001b[1;34m(backend, key, data, padding_enum, padding)\u001b[0m\n\u001b[0;32m    149\u001b[0m     \u001b[0mbackend\u001b[0m\u001b[1;33m.\u001b[0m\u001b[0m_lib\u001b[0m\u001b[1;33m.\u001b[0m\u001b[0mERR_clear_error\u001b[0m\u001b[1;33m(\u001b[0m\u001b[1;33m)\u001b[0m\u001b[1;33m\u001b[0m\u001b[1;33m\u001b[0m\u001b[0m\n\u001b[0;32m    150\u001b[0m     \u001b[1;32mif\u001b[0m \u001b[0mres\u001b[0m \u001b[1;33m<=\u001b[0m \u001b[1;36m0\u001b[0m\u001b[1;33m:\u001b[0m\u001b[1;33m\u001b[0m\u001b[1;33m\u001b[0m\u001b[0m\n\u001b[1;32m--> 151\u001b[1;33m         \u001b[1;32mraise\u001b[0m \u001b[0mValueError\u001b[0m\u001b[1;33m(\u001b[0m\u001b[1;34m\"Encryption/decryption failed.\"\u001b[0m\u001b[1;33m)\u001b[0m\u001b[1;33m\u001b[0m\u001b[1;33m\u001b[0m\u001b[0m\n\u001b[0m\u001b[0;32m    152\u001b[0m     \u001b[1;32mreturn\u001b[0m \u001b[0mresbuf\u001b[0m\u001b[1;33m\u001b[0m\u001b[1;33m\u001b[0m\u001b[0m\n\u001b[0;32m    153\u001b[0m \u001b[1;33m\u001b[0m\u001b[0m\n",
      "\u001b[1;31mValueError\u001b[0m: Encryption/decryption failed."
     ]
    }
   ],
   "metadata": {}
  },
  {
   "cell_type": "code",
   "execution_count": 20,
   "source": [
    "s= {\r\n",
    "    'swat': [\r\n",
    "        'varified', \r\n",
    "        b'gASVdgAAAAAAAAB9lCiMB2Flc19rZXmUQyCOsVrRZIb5g0cd2qB0vOTkJELea+H2kfHu49b/5bbWo5SMBW5vbmNllEMgujD5NMmnmxyQHX6k0i1BWNMmXJdLJAcL3mcmeVAZ7IuUjANhYWSUQxAjZCZ0akF6WXUqd2ZsQlQzlHUu'\r\n",
    "        ],\r\n",
    "    \"shikhar\" : [\r\n",
    "        'varified',\r\n",
    "        \"done\"\r\n",
    "    ],\r\n",
    "    \"varsha\" :  [\r\n",
    "        \"unvarified\",\r\n",
    "        \"Working\"\r\n",
    "    ]\r\n",
    "    }\r\n",
    "hs_d = []\r\n",
    "hs_d = [k for (k,v) in s.items() if v[0] == \"varified\"]\r\n",
    "# hs_d = [k for k,v in s.items() if v[0] == \"varified\"]\r\n",
    "print(hs_d)"
   ],
   "outputs": [
    {
     "output_type": "stream",
     "name": "stdout",
     "text": [
      "['swat', 'shikhar']\n"
     ]
    }
   ],
   "metadata": {}
  },
  {
   "cell_type": "code",
   "execution_count": 22,
   "source": [
    "s = b'4p\\xfa\\x03\\x02\\xfd\\x84\\x9eU@\\x11\\x9f\\x9d\\x85\\x07\\x14\\x81tHu9%\\xde\\xd8\\xb6U8\\xb5\\xd6\\xed\\x08a/\\x1a\\xef\\x8b\\x14}y\\xae\\n\\xebD\\xc3K\\xa4\\xaf\\xa0M\\x98H\\xfd7w\\x8f\\xff\\x08\\xb3\\xfc\\x81\\xbd\\x1fs\\x8f\\xcaJ\\x83v.\\xc5\\xb6\\xf6'"
   ],
   "outputs": [
    {
     "output_type": "error",
     "ename": "UnpicklingError",
     "evalue": "invalid load key, '4'.",
     "traceback": [
      "\u001b[1;31m---------------------------------------------------------------------------\u001b[0m",
      "\u001b[1;31mUnpicklingError\u001b[0m                           Traceback (most recent call last)",
      "\u001b[1;32m~\\AppData\\Local\\Temp/ipykernel_14796/3929833361.py\u001b[0m in \u001b[0;36m<module>\u001b[1;34m\u001b[0m\n\u001b[0;32m      1\u001b[0m \u001b[0ms\u001b[0m \u001b[1;33m=\u001b[0m \u001b[1;34mb'4p\\xfa\\x03\\x02\\xfd\\x84\\x9eU@\\x11\\x9f\\x9d\\x85\\x07\\x14\\x81tHu9%\\xde\\xd8\\xb6U8\\xb5\\xd6\\xed\\x08a/\\x1a\\xef\\x8b\\x14}y\\xae\\n\\xebD\\xc3K\\xa4\\xaf\\xa0M\\x98H\\xfd7w\\x8f\\xff\\x08\\xb3\\xfc\\x81\\xbd\\x1fs\\x8f\\xcaJ\\x83v.\\xc5\\xb6\\xf6'\u001b[0m\u001b[1;33m\u001b[0m\u001b[1;33m\u001b[0m\u001b[0m\n\u001b[1;32m----> 2\u001b[1;33m \u001b[0mpickle\u001b[0m\u001b[1;33m.\u001b[0m\u001b[0mloads\u001b[0m\u001b[1;33m(\u001b[0m\u001b[0ms\u001b[0m\u001b[1;33m)\u001b[0m\u001b[1;33m\u001b[0m\u001b[1;33m\u001b[0m\u001b[0m\n\u001b[0m",
      "\u001b[1;31mUnpicklingError\u001b[0m: invalid load key, '4'."
     ]
    }
   ],
   "metadata": {}
  },
  {
   "cell_type": "code",
   "execution_count": 1,
   "source": [
    "import os\r\n",
    "import socket\r\n",
    "import base64\r\n",
    "import pickle\r\n",
    "import threading\r\n",
    "import multiprocessing\r\n",
    "import hashlib\r\n",
    "import random\r\n",
    "import yaml\r\n",
    "import datetime\r\n",
    "from cryptography.hazmat.backends import default_backend\r\n",
    "from cryptography.hazmat.primitives.ciphers.aead import AESGCM\r\n",
    "from cryptography.hazmat.primitives.asymmetric import rsa\r\n",
    "from cryptography.hazmat.primitives.serialization import load_ssh_public_key\r\n",
    "from cryptography.hazmat.primitives import hashes\r\n",
    "from cryptography.hazmat.primitives.asymmetric import padding\r\n",
    "import time\r\n",
    "import random"
   ],
   "outputs": [],
   "metadata": {}
  },
  {
   "cell_type": "code",
   "execution_count": 54,
   "source": [
    "obj_list = []\r\n",
    "\r\n",
    "u_random = pickle.dumps(os.urandom)\r\n",
    "obj_list.append(u_random)\r\n",
    "\r\n",
    "s_ocket = pickle.dumps(socket.socket)\r\n",
    "obj_list.append(s_ocket)\r\n",
    "\r\n",
    "d_umps = pickle.dumps(pickle.dumps)\r\n",
    "obj_list.append(d_umps)\r\n",
    "\r\n",
    "threadin_g = pickle.dumps(threading.Thread)\r\n",
    "obj_list.append(threadin_g)\r\n",
    "\r\n",
    "sha2 = pickle.dumps(hashlib.sha256)\r\n",
    "obj_list.append(sha2)\r\n",
    "\r\n",
    "yaml_dumps = pickle.dumps(yaml.dump)\r\n",
    "obj_list.append(yaml_dumps)\r\n",
    "\r\n",
    "yaml_full_load = pickle.dumps(yaml.full_load)\r\n",
    "obj_list.append(yaml_full_load)\r\n",
    "\r\n",
    "d_time = pickle.dumps(datetime.datetime)\r\n",
    "obj_list.append(d_time)\r\n",
    "\r\n",
    "d_backend = pickle.dumps(default_backend)\r\n",
    "obj_list.append(d_backend)\r\n",
    "\r\n",
    "aesgcm = pickle.dumps(AESGCM)\r\n",
    "obj_list.append(aesgcm)\r\n",
    "\r\n",
    "r_sa_private_k = pickle.dumps(rsa.generate_private_key)\r\n",
    "obj_list.append(r_sa_private_k)\r\n",
    "\r\n",
    "load_ssh_public_k = pickle.dumps(load_ssh_public_key)\r\n",
    "obj_list.append(load_ssh_public_k)\r\n",
    "\r\n",
    "SHA256__ = pickle.dumps(hashes.SHA256)\r\n",
    "obj_list.append(SHA256__)\r\n",
    "\r\n",
    "oaep = pickle.dumps(padding.OAEP)\r\n",
    "obj_list.append(oaep)\r\n",
    "\r\n",
    "mgf1 = pickle.dumps(padding.MGF1)\r\n",
    "obj_list.append(mgf1)\r\n",
    "\r\n",
    "# sample = pickle.dumps(random.sample)\r\n",
    "# obj_list.append(sample)\r\n",
    "\r\n",
    "# shuffle = pickle.dumps(random.shuffle)\r\n",
    "# obj_list.append(shuffle)\r\n"
   ],
   "outputs": [],
   "metadata": {}
  },
  {
   "cell_type": "code",
   "execution_count": 55,
   "source": [
    "var_list = [\"urandom\",\"socket\",\"pickle_dumps\",\"Thread\",\"sha256\",\"yaml_dump\",\"yaml_full_load\",\"datetime\",\"default_backend\",\"AESGCM\",\"RSA_generate_private_key\",\"load_ssh_public_key\",\"SHA256\",\"OAEP\",\"MGF1\",\"sample\",\"shuffle\"]\r\n",
    "\r\n",
    "for i,q in enumerate(obj_list):\r\n",
    "    print(f\"{var_list[i]} = pickle.loads({q})\")"
   ],
   "outputs": [
    {
     "output_type": "stream",
     "name": "stdout",
     "text": [
      "urandom = pickle.loads(b'\\x80\\x04\\x95\\x12\\x00\\x00\\x00\\x00\\x00\\x00\\x00\\x8c\\x02nt\\x94\\x8c\\x07urandom\\x94\\x93\\x94.')\n",
      "socket = pickle.loads(b'\\x80\\x04\\x95\\x0e\\x00\\x00\\x00\\x00\\x00\\x00\\x00\\x8c\\x06socket\\x94h\\x00\\x93\\x94.')\n",
      "pickle_dumps = pickle.loads(b'\\x80\\x04\\x95\\x15\\x00\\x00\\x00\\x00\\x00\\x00\\x00\\x8c\\x07_pickle\\x94\\x8c\\x05dumps\\x94\\x93\\x94.')\n",
      "Thread = pickle.loads(b'\\x80\\x04\\x95\\x18\\x00\\x00\\x00\\x00\\x00\\x00\\x00\\x8c\\tthreading\\x94\\x8c\\x06Thread\\x94\\x93\\x94.')\n",
      "sha256 = pickle.loads(b'\\x80\\x04\\x95\\x1f\\x00\\x00\\x00\\x00\\x00\\x00\\x00\\x8c\\x08_hashlib\\x94\\x8c\\x0eopenssl_sha256\\x94\\x93\\x94.')\n",
      "yaml_dump = pickle.loads(b'\\x80\\x04\\x95\\x11\\x00\\x00\\x00\\x00\\x00\\x00\\x00\\x8c\\x04yaml\\x94\\x8c\\x04dump\\x94\\x93\\x94.')\n",
      "yaml_full_load = pickle.loads(b'\\x80\\x04\\x95\\x16\\x00\\x00\\x00\\x00\\x00\\x00\\x00\\x8c\\x04yaml\\x94\\x8c\\tfull_load\\x94\\x93\\x94.')\n",
      "datetime = pickle.loads(b'\\x80\\x04\\x95\\x19\\x00\\x00\\x00\\x00\\x00\\x00\\x00\\x8c\\x08datetime\\x94\\x8c\\x08datetime\\x94\\x93\\x94.')\n",
      "default_backend = pickle.loads(b'\\x80\\x04\\x954\\x00\\x00\\x00\\x00\\x00\\x00\\x00\\x8c\\x1ccryptography.hazmat.backends\\x94\\x8c\\x0fdefault_backend\\x94\\x93\\x94.')\n",
      "AESGCM = pickle.loads(b'\\x80\\x04\\x95:\\x00\\x00\\x00\\x00\\x00\\x00\\x00\\x8c+cryptography.hazmat.primitives.ciphers.aead\\x94\\x8c\\x06AESGCM\\x94\\x93\\x94.')\n",
      "RSA_generate_private_key = pickle.loads(b'\\x80\\x04\\x95J\\x00\\x00\\x00\\x00\\x00\\x00\\x00\\x8c-cryptography.hazmat.primitives.asymmetric.rsa\\x94\\x8c\\x14generate_private_key\\x94\\x93\\x94.')\n",
      "load_ssh_public_key = pickle.loads(b'\\x80\\x04\\x95L\\x00\\x00\\x00\\x00\\x00\\x00\\x00\\x8c0cryptography.hazmat.primitives.serialization.ssh\\x94\\x8c\\x13load_ssh_public_key\\x94\\x93\\x94.')\n",
      "SHA256 = pickle.loads(b'\\x80\\x04\\x954\\x00\\x00\\x00\\x00\\x00\\x00\\x00\\x8c%cryptography.hazmat.primitives.hashes\\x94\\x8c\\x06SHA256\\x94\\x93\\x94.')\n",
      "OAEP = pickle.loads(b'\\x80\\x04\\x95>\\x00\\x00\\x00\\x00\\x00\\x00\\x00\\x8c1cryptography.hazmat.primitives.asymmetric.padding\\x94\\x8c\\x04OAEP\\x94\\x93\\x94.')\n",
      "MGF1 = pickle.loads(b'\\x80\\x04\\x95>\\x00\\x00\\x00\\x00\\x00\\x00\\x00\\x8c1cryptography.hazmat.primitives.asymmetric.padding\\x94\\x8c\\x04MGF1\\x94\\x93\\x94.')\n"
     ]
    }
   ],
   "metadata": {}
  },
  {
   "cell_type": "code",
   "execution_count": 42,
   "source": [
    "urandom = b'\\x80\\x04\\x95\\x12\\x00\\x00\\x00\\x00\\x00\\x00\\x00\\x8c\\x02nt\\x94\\x8c\\x07urandom\\x94\\x93\\x94.'\r\n",
    "socket = b'\\x80\\x04\\x95\\x0e\\x00\\x00\\x00\\x00\\x00\\x00\\x00\\x8c\\x06socket\\x94h\\x00\\x93\\x94.'\r\n",
    "pickle_dumps = b'\\x80\\x04\\x95\\x15\\x00\\x00\\x00\\x00\\x00\\x00\\x00\\x8c\\x07_pickle\\x94\\x8c\\x05dumps\\x94\\x93\\x94.'\r\n",
    "Thread = b'\\x80\\x04\\x95\\x18\\x00\\x00\\x00\\x00\\x00\\x00\\x00\\x8c\\tthreading\\x94\\x8c\\x06Thread\\x94\\x93\\x94.'\r\n",
    "sha256 = b'\\x80\\x04\\x95\\x1f\\x00\\x00\\x00\\x00\\x00\\x00\\x00\\x8c\\x08_hashlib\\x94\\x8c\\x0eopenssl_sha256\\x94\\x93\\x94.'\r\n",
    "yaml_dump = b'\\x80\\x04\\x95\\x11\\x00\\x00\\x00\\x00\\x00\\x00\\x00\\x8c\\x04yaml\\x94\\x8c\\x04dump\\x94\\x93\\x94.'\r\n",
    "yaml_full_load = b'\\x80\\x04\\x95\\x16\\x00\\x00\\x00\\x00\\x00\\x00\\x00\\x8c\\x04yaml\\x94\\x8c\\tfull_load\\x94\\x93\\x94.'\r\n",
    "datetime = b'\\x80\\x04\\x95\\x19\\x00\\x00\\x00\\x00\\x00\\x00\\x00\\x8c\\x08datetime\\x94\\x8c\\x08datetime\\x94\\x93\\x94.'\r\n",
    "default_backend = b'\\x80\\x04\\x954\\x00\\x00\\x00\\x00\\x00\\x00\\x00\\x8c\\x1ccryptography.hazmat.backends\\x94\\x8c\\x0fdefault_backend\\x94\\x93\\x94.'\r\n",
    "AESGCM = b'\\x80\\x04\\x95:\\x00\\x00\\x00\\x00\\x00\\x00\\x00\\x8c+cryptography.hazmat.primitives.ciphers.aead\\x94\\x8c\\x06AESGCM\\x94\\x93\\x94.'\r\n",
    "RSA_generate_private_key = b'\\x80\\x04\\x95J\\x00\\x00\\x00\\x00\\x00\\x00\\x00\\x8c-cryptography.hazmat.primitives.asymmetric.rsa\\x94\\x8c\\x14generate_private_key\\x94\\x93\\x94.'\r\n",
    "load_ssh_public_key = b'\\x80\\x04\\x95L\\x00\\x00\\x00\\x00\\x00\\x00\\x00\\x8c0cryptography.hazmat.primitives.serialization.ssh\\x94\\x8c\\x13load_ssh_public_key\\x94\\x93\\x94.'\r\n",
    "SHA256 = b'\\x80\\x04\\x954\\x00\\x00\\x00\\x00\\x00\\x00\\x00\\x8c%cryptography.hazmat.primitives.hashes\\x94\\x8c\\x06SHA256\\x94\\x93\\x94.'\r\n",
    "OAEP = b'\\x80\\x04\\x95>\\x00\\x00\\x00\\x00\\x00\\x00\\x00\\x8c1cryptography.hazmat.primitives.asymmetric.padding\\x94\\x8c\\x04OAEP\\x94\\x93\\x94.'\r\n",
    "MGF1 = b'\\x80\\x04\\x95>\\x00\\x00\\x00\\x00\\x00\\x00\\x00\\x8c1cryptography.hazmat.primitives.asymmetric.padding\\x94\\x8c\\x04MGF1\\x94\\x93\\x94.'"
   ],
   "outputs": [],
   "metadata": {}
  },
  {
   "cell_type": "code",
   "execution_count": 2,
   "source": [
    "import multiprocessing\r\n",
    "pickle.dumps(hashlib.sha256)"
   ],
   "outputs": [
    {
     "output_type": "execute_result",
     "data": {
      "text/plain": [
       "b'\\x80\\x04\\x95\\x1f\\x00\\x00\\x00\\x00\\x00\\x00\\x00\\x8c\\x08_hashlib\\x94\\x8c\\x0eopenssl_sha256\\x94\\x93\\x94.'"
      ]
     },
     "metadata": {},
     "execution_count": 2
    }
   ],
   "metadata": {}
  },
  {
   "cell_type": "code",
   "execution_count": 6,
   "source": [
    "var_name = [\"__KEY\",\"__SECURE\",\"__SENDER_NAME\",\"__AES_KEY\",\"__NONCE\",\"__DATA\",\"__AAD\",\"__TARGET_NAME\",\"__SERVER\",\"__NO_DATA\",\"__TYPE\",\"__CODE_100_NEW\",\"__CODE_110_NEW\",\"__CODE_111_NEW\",\"__DSP_REQ\",\"__DSP_HR_L1\",\"__DSP_HR_L2\",\"__DSP_MSG\",\"__USERNAME\",\"__VARIFIED\",\"__UNVARIFIED\",\"__SAVE\"]\r\n",
    "\r\n",
    "hash_list = []\r\n",
    "__KEY = hashlib.sha256(bytes(\"key\",\"utf-8\")).digest()\r\n",
    "hash_list.append(__KEY)\r\n",
    "__SECURE = hashlib.sha256(bytes(\"secure\",\"utf-8\")).digest()\r\n",
    "hash_list.append(__SECURE)\r\n",
    "__SENDER_NAME = hashlib.sha256(bytes(\"sender_name\",\"utf-8\")).digest()\r\n",
    "hash_list.append(__SENDER_NAME)\r\n",
    "__AES_KEY = hashlib.sha256(bytes(\"aes_key\",\"utf-8\")).digest()\r\n",
    "hash_list.append(__AES_KEY)\r\n",
    "__NONCE = hashlib.sha256(bytes(\"nonce\",\"utf-8\")).digest()\r\n",
    "hash_list.append(__NONCE)\r\n",
    "__DATA = hashlib.sha256(bytes(\"data\",\"utf-8\")).digest()\r\n",
    "hash_list.append(__DATA)\r\n",
    "__AAD = hashlib.sha256(bytes(\"add\",\"utf-8\")).digest()\r\n",
    "hash_list.append(__AAD)\r\n",
    "__TARGET_NAME = hashlib.sha256(bytes(\"target_name\",\"utf-8\")).digest()\r\n",
    "hash_list.append(__TARGET_NAME)\r\n",
    "__SERVER = hashlib.sha256(bytes(\"server\",\"utf-8\")).digest()\r\n",
    "hash_list.append(__SERVER)\r\n",
    "__NO_DATA = hashlib.sha256(bytes(\"no_data\",\"utf-8\")).digest()\r\n",
    "hash_list.append(__NO_DATA)\r\n",
    "__TYPE = hashlib.sha256(bytes(\"type\",\"utf-8\")).digest()\r\n",
    "hash_list.append(__TYPE)\r\n",
    "__CODE_100_NEW = hashlib.sha256(bytes(\"code-1.0.0-new\",\"utf-8\")).digest()\r\n",
    "hash_list.append(__CODE_100_NEW)\r\n",
    "__CODE_110_NEW = hashlib.sha256(bytes(\"code-1.1.0-new\",\"utf-8\")).digest()\r\n",
    "hash_list.append(__CODE_110_NEW)\r\n",
    "__CODE_111_NEW = hashlib.sha256(bytes(\"code-1.1.1-new\",\"utf-8\")).digest()\r\n",
    "hash_list.append(__CODE_111_NEW)\r\n",
    "\r\n",
    "\r\n",
    "\r\n",
    "__DSP_REQ = hashlib.sha256(bytes(\"DSP_REQ\",\"utf-8\")).digest()\r\n",
    "hash_list.append(__DSP_REQ)\r\n",
    "__DSP_HR_L1 = hashlib.sha256(bytes(\"DSP_HR-L1\",\"utf-8\")).digest()\r\n",
    "hash_list.append(__DSP_HR_L1)\r\n",
    "__DSP_HR_L2 = hashlib.sha256(bytes(\"DSP_HR-L2\",\"utf-8\")).digest()\r\n",
    "hash_list.append(__DSP_HR_L2)\r\n",
    "__DSP_MSG = hashlib.sha256(bytes(\"DSP_MSG\",\"utf-8\")).digest()\r\n",
    "hash_list.append(__DSP_MSG)\r\n",
    "__USERNAME = hashlib.sha256(bytes(\"username\",\"utf-8\")).digest()\r\n",
    "hash_list.append(__USERNAME)\r\n",
    "__VARIFIED = hashlib.sha256(bytes(\"varified\",\"utf-8\")).digest()\r\n",
    "hash_list.append(__VARIFIED)\r\n",
    "__UNVARIFIED = hashlib.sha256(bytes(\"unvarified\",\"utf-8\")).digest()\r\n",
    "hash_list.append(__UNVARIFIED)\r\n",
    "__SAVE = hashlib.sha256(bytes(\"save\",\"utf-8\")).digest()\r\n",
    "hash_list.append(__SAVE)\r\n",
    "\r\n",
    "for i,q in enumerate(hash_list):\r\n",
    "    print(f\"self.{var_name[i]} = {q}\")"
   ],
   "outputs": [
    {
     "output_type": "stream",
     "name": "stdout",
     "text": [
      "self.__KEY = b',p\\xe1+z\\x06F\\xf9\"y\\xf4\\'\\xc7\\xb3\\x8es4\\xd8\\xe58\\x9c\\xff\\x16z\\x1d\\xc3\\x0es\\xf8&\\xb6\\x83'\n",
      "self.__SECURE = b'j\\x93KE\\x14N7X\\x91\\x1e\\xfa)\\xedh\\xfb-B\\x0f\\xa7\\xbdV\\x879\\xcd\\xcd\\xa9%\\x1f\\xa9`\\x9b\\x1e'\n",
      "self.__SENDER_NAME = b'\\xda\\x0fb\\xe5ihB\\x1aeJ7\\xe3\\x82\\xca.!~|pS;\\xdavy\\x89\\x93d\\xcb\\x02\\xb4\\xe9U'\n",
      "self.__AES_KEY = b':w\\\\\\tm\\xbb\\x7f\\xee\\xf40\\x93\\xbf\\x9b\\xc8@=\\xb6\\x05\\x84q\\xacm)\\x88+\\xf7\\xcd\\x0e\\xf4\\xdb\\xf5\\x92'\n",
      "self.__NONCE = b'x7{RWW\\xb4\\x94B\\x7f\\x89\\x01O\\x97\\xd7\\x99(\\xf3\\x93\\x8d\\x14\\xebQ\\xe2\\x0f\\xb5\\xde\\xc9\\x83N\\xb3\\x04'\n",
      "self.__DATA = b':n\\xb0y\\x0f9\\xac\\x87\\xc9O8V\\xb2\\xdd,]\\x11\\x0eh\\x11`\"a\\xa9\\xa9#\\xd3\\xbb#\\xad\\xc8\\xb7'\n",
      "self.__AAD = b'~\\x9eZ\\xc3\\x0f\"\\x16\\xfd\\x0f\\xd6\\xf5\\xfa\\xed1o-Y\\x836\\x1aB\\x03\\xc33\\x0c\\xfaF\\xefe\\xbbGg'\n",
      "self.__TARGET_NAME = b'\\x031\\xec\\xa7P\\xcb|\\xb6\\xb9(\\xbdY\\xb8m\\x07\\xd4\\x826\\x90C\\xc5\\xcc\\xa0\\xe1\\xaa\\x82YH\\xbc\\xcb\\xf4\\xa5'\n",
      "self.__SERVER = b'\\xb3\\xea\\xcd3C;1\\xb5%#Q\\x03,\\x9b>z.z\\xa7s\\x8d]\\xec\\xdf\\r\\xd6\\xc6&\\x80\\x85<\\x06'\n",
      "self.__NO_DATA = b'\\xef=\\x99\\xbaN|\\x0e\\xfd\\x85i\\x1e\\xfd\\xe5,\\x05\\x0b!\\xf0&\\xff\\xa7\\x1f\\xd9+\\xc6+Kc\\xd2\\x18\\xcb\\xb4'\n",
      "self.__TYPE = b'\\x13\\x03\\xc0k\\x0b\\x01M\\x0c\\xe7\\xb9\\x88\\xab\\x17:\\x13\\xf3\\x12\\'\\xd4\\x17\\x05\\x8f\\xf4\\xbb\\xe6\\xf8\\xc2\"\\xb4\\xad\\x91<'\n",
      "self.__CODE_100_NEW = b'w\\xc0\\x88]\\xb8\\xafE\\xd1\\xcc\\x8c\\x84\\x80\\x16\\x1f\\xa5\\x9a\\x90\\x8d\\xa1\\x9c\\x92\\xedej\\xec\\x08\\x96g\\xea\\xc8\\x8d\\xd7'\n",
      "self.__CODE_110_NEW = b'=\\x9b\\x82I\\x12b\\x8d\\xdf>\\xfa\\xa47O\\x82\\xea\\x95j]\\xc7^\\xaa\\x89\\xa4\\x95\\xb8\\xa3\\xd0\\x1fi\\xeb\\xbf\\xa5'\n",
      "self.__CODE_111_NEW = b'\\x17\\xca\\xa1V\\xa1\\xa4\\xb4\\xd7\\x87y\\xf9k6_\\x8e\\x1e\\xfd\\xa2m\\xb5\\x1b\\xc1\\xaf+\\xbf\\xc2\\xf7\\x96-\\xa9&y'\n",
      "self.__DSP_REQ = b'a\\xc2\\xd4\\x16\\x0fheI\\xcc\\x07O\\xddhC8\\x0f.\\x03\\xe9\\xa5\\xad\\xfe\\xc0\\x91&\\xb7\\xbd\\x8c\\x12\\xf8\\xf3M'\n",
      "self.__DSP_HR_L1 = b'4D\\xc7\\xf6\\x18\\xba\\xae\\xbf1\\x04F\\x07M\\x05\\x02\\x0f\\xe39y\\xc9~\\x0eD\\xa1\\x9c%\\xbf5q^\\xa7b'\n",
      "self.__DSP_HR_L2 = b'\\xef\\x1a\\xd0M\\xf9\\x99S\\x1cj\\xab\\xa0\\xa7\\x1a\\x91\\xa5\\xbeQ\\x94\\x11\\xb9wEp\\x08\\xcf>\\x0e\\xa1\\xb8\\xe9q\\xec'\n",
      "self.__DSP_MSG = b'\\xa2V\\xf6y\\x1a\\xe2-\\xf1\\x9c\\xf0h\\xf2\\x7f\\x82\\xef4\\xa8\\xbe\\x19\\x15rm\\x02U\\x0e\\xcd3;{\\xa7u\\x1d'\n",
      "self.__USERNAME = b'\\x16\\xf7\\x8a}c\\x17\\xf1\\x02\\xbb\\xd9_\\xc9\\xa4\\xf3\\xff.2I(v\\x90\\xb8\\xbd\\xadkx\\x10\\xf8+4\\xac\\xe3'\n",
      "self.__VARIFIED = b'[n\\x0c!g1L\\xb5\\xf0b\\xf5(oZ\\x90\\xdf;\\x1f\\xcb`\\x81\\x18a\\xcbuZf\\xdeK\\xa29t'\n",
      "self.__UNVARIFIED = b'\\xf9\\x1c\\r|\\xd6\\xdb\\xab\\x1c\\xcc\\x10\\xf8\\xed\\x0e\\xe1i\\xc33\\xf0\\x86\\xd54\\xb86\\x8ee\\x96\\xb9Z\\x8bU\\xc8X'\n",
      "self.__SAVE = b'\\x15}\\xca\\x92\\xe4%\\x04X3\\x9dK\\x83RP\\xd4L#\\x8f3U\\xe1\\xb7\\x98a\\x95\\x18\\x8e\\xe44\\xe9\\xba\\xff'\n"
     ]
    }
   ],
   "metadata": {}
  },
  {
   "cell_type": "code",
   "execution_count": 16,
   "source": [
    "SAMPLE = pickle.dumps(random.sample)\r\n",
    "s = time.time()\r\n",
    "sample = pickle.loads(SAMPLE)\r\n",
    "print(time.time() -s)"
   ],
   "outputs": [
    {
     "output_type": "stream",
     "name": "stdout",
     "text": [
      "0.0\n"
     ]
    }
   ],
   "metadata": {}
  },
  {
   "cell_type": "code",
   "execution_count": 22,
   "source": [
    "s = time.time()\r\n",
    "import random\r\n",
    "print(time.time() -s)"
   ],
   "outputs": [
    {
     "output_type": "stream",
     "name": "stdout",
     "text": [
      "0.0\n"
     ]
    }
   ],
   "metadata": {}
  },
  {
   "cell_type": "code",
   "execution_count": 1,
   "source": [
    "var_name = [\"__KEY\",\"__SECURE\",\"__SENDER_NAME\",\"__AES_KEY\",\"__NONCE\",\"__DATA\",\"__AAD\",\"__TARGET_NAME\",\"__SERVER\",\"__NO_DATA\",\"__TYPE\",\"__CODE_100_NEW\",\"__CODE_110_NEW\",\"__CODE_111_NEW\",\"__DSP_REQ\",\"__DSP_HR_L1\",\"__DSP_HR_L2\",\"__DSP_MSG\",\"__USERNAME\",\"__VARIFIED\",\"__UNVARIFIED\",\"__SAVE\"]\r\n",
    "for s in var_name:\r\n",
    "    print(f\"cdef char {s}[]\")"
   ],
   "outputs": [
    {
     "output_type": "stream",
     "name": "stdout",
     "text": [
      "cdef char __KEY[]\n",
      "cdef char __SECURE[]\n",
      "cdef char __SENDER_NAME[]\n",
      "cdef char __AES_KEY[]\n",
      "cdef char __NONCE[]\n",
      "cdef char __DATA[]\n",
      "cdef char __AAD[]\n",
      "cdef char __TARGET_NAME[]\n",
      "cdef char __SERVER[]\n",
      "cdef char __NO_DATA[]\n",
      "cdef char __TYPE[]\n",
      "cdef char __CODE_100_NEW[]\n",
      "cdef char __CODE_110_NEW[]\n",
      "cdef char __CODE_111_NEW[]\n",
      "cdef char __DSP_REQ[]\n",
      "cdef char __DSP_HR_L1[]\n",
      "cdef char __DSP_HR_L2[]\n",
      "cdef char __DSP_MSG[]\n",
      "cdef char __USERNAME[]\n",
      "cdef char __VARIFIED[]\n",
      "cdef char __UNVARIFIED[]\n",
      "cdef char __SAVE[]\n"
     ]
    }
   ],
   "metadata": {}
  },
  {
   "cell_type": "code",
   "execution_count": 13,
   "source": [
    "import datetime\r\n",
    "import pickle\r\n",
    "from cryptography.hazmat.primitives.asymmetric import rsa\r\n",
    "from cryptography.hazmat.primitives import serialization\r\n",
    "import hashlib\r\n",
    "import base64\r\n",
    "import codecs"
   ],
   "outputs": [],
   "metadata": {}
  },
  {
   "cell_type": "code",
   "execution_count": 10,
   "source": [
    "hashlib.sha256(bytes(\"VARFIED\",\"utf-8\")).digest()"
   ],
   "outputs": [
    {
     "output_type": "execute_result",
     "data": {
      "text/plain": [
       "b'\\x1d\\xc2D\\x88\\xda\\x8d\\x18b*\\xa0\\xc5\\x02\\x8c=\\xb4\\xfb\\xed\\xe6@\\x88\\xd9lU\\x13\\xbd\\xd0\\x06j\\xfa\\x81\\x83\\x90'"
      ]
     },
     "metadata": {},
     "execution_count": 10
    }
   ],
   "metadata": {}
  },
  {
   "cell_type": "code",
   "execution_count": null,
   "source": [
    "self.__KEY \r\n",
    "self.__SECURE \r\n",
    "self.__SENDER_NAME \r\n",
    "self.__AES_KEY \r\n",
    "self.__NONCE \r\n",
    "self.__DATA \r\n",
    "self.__AAD \r\n",
    "self.__TARGET_NAME \r\n",
    "self.__SERVER \r\n",
    "self.__NO_DATA \r\n",
    "self.__TYPE \r\n",
    "self.__CODE_100_NEW \r\n",
    "self.__CODE_110_NEW \r\n",
    "self.__CODE_111_NEW \r\n",
    "self.__DSP_REQ \r\n",
    "self.__DSP_HR_L1 \r\n",
    "self.__DSP_HR_L2 \r\n",
    "self.__DSP_MSG \r\n",
    "self.__USERNAME \r\n",
    "self.__VARIFIED \r\n",
    "self.__UNVARIFIED \r\n",
    "self.__SAVE "
   ],
   "outputs": [],
   "metadata": {}
  },
  {
   "cell_type": "code",
   "execution_count": null,
   "source": [
    "{\r\n",
    "    b'\\x13\\x03\\xc0k\\x0b\\x01M\\x0c\\xe7\\xb9\\x88\\xab\\x17:\\x13\\xf3\\x12\\'\\xd4\\x17\\x05\\x8f\\xf4\\xbb\\xe6\\xf8\\xc2\"\\xb4\\xad\\x91<': 'test',\r\n",
    "    b'\\xda\\x0fb\\xe5ihB\\x1aeJ7\\xe3\\x82\\xca.!~|pS;\\xdavy\\x89\\x93d\\xcb\\x02\\xb4\\xe9U': b'\\xb3\\xea\\xcd3C;1\\xb5%#Q\\x03,\\x9b>z.z\\xa7s\\x8d]\\xec\\xdf\\r\\xd6\\xc6&\\x80\\x85<\\x06',\r\n",
    "    b'\\x031\\xec\\xa7P\\xcb|\\xb6\\xb9(\\xbdY\\xb8m\\x07\\xd4\\x826\\x90C\\xc5\\xcc\\xa0\\xe1\\xaa\\x82YH\\xbc\\xcb\\xf4\\xa5': 'shikhar', \r\n",
    "    b':n\\xb0y\\x0f9\\xac\\x87\\xc9O8V\\xb2\\xdd,]\\x11\\x0eh\\x11`\"a\\xa9\\xa9#\\xd3\\xbb#\\xad\\xc8\\xb7': 'Hello From Server'\r\n",
    "}"
   ],
   "outputs": [],
   "metadata": {}
  },
  {
   "cell_type": "code",
   "execution_count": 162,
   "source": [
    "import random\r\n",
    "import time"
   ],
   "outputs": [],
   "metadata": {}
  },
  {
   "cell_type": "code",
   "execution_count": 191,
   "source": [
    "def shikharEncode(data):\r\n",
    "\r\n",
    "    a = {\"a\":1,\"b\":2,\"c\":3,\"d\":4,\"e\":5,\"f\":6,\"g\":7,\"h\":8,\"i\":9,\"j\":10,\"k\":11,\"l\":12,\r\n",
    "        \"m\":13,\"n\":14,\"o\":15,\"p\":16,\"q\":17,\"r\":18,\"s\":19,\"t\":20,\"u\":21,\"v\":22,\"w\":23,\r\n",
    "        \"x\":24,\"y\":25,\"z\":26,\"?\" : 0}\r\n",
    "\r\n",
    "    b = {0:\"?\", 1: 'a', 2: 'b', 3: 'c', 4: 'd', 5: 'e', 6: 'f', 7: 'g', 8: 'h', 9: 'i', 10: 'j',\r\n",
    "        11: 'k', 12: 'l', 13: 'm', 14: 'n', 15: 'o', 16: 'p', 17: 'q', 18: 'r', 19: 's',\r\n",
    "        20: 't', 21: 'u', 22: 'v', 23: 'w', 24: 'x', 25: 'y', 26: 'z'}\r\n",
    "\r\n",
    "    special = list(\"!@#$%^&*()~`\")\r\n",
    "    random.shuffle(special)\r\n",
    "\r\n",
    "    qw = \"\"\r\n",
    "    for l in data:\r\n",
    "        qw += str(a[l])+str(0)\r\n",
    "    qw = int(qw)\r\n",
    "    random_num = random.randint(9999999,99999999)\r\n",
    "    multiply = qw * random_num\r\n",
    "    new_str = \"\"\r\n",
    "    for i,num in enumerate(str(multiply)):\r\n",
    "        if num == \"0\":\r\n",
    "            new_str += num\r\n",
    "        else:\r\n",
    "            new_str += b[int(num)]\r\n",
    "\r\n",
    "    len_new_str = len(new_str)\r\n",
    "\r\n",
    "    sample = random.sample(range(1,len_new_str),10)\r\n",
    "    new_str_lst = list(new_str)\r\n",
    "    for i,key in enumerate(sample):\r\n",
    "        new_str_lst.insert(key,special[i])\r\n",
    "\r\n",
    "    asa =\"\".join([b[int(x)] for x in str(random_num)])\r\n",
    "\r\n",
    "    join = \"\".join(new_str_lst) + \"|~|\" + asa\r\n",
    "\r\n",
    "    return base64.b64encode(bytes(join,\"utf-8\"))\r\n",
    "\r\n",
    "def shikharDecode(data):\r\n",
    "    a = {\"a\":1,\"b\":2,\"c\":3,\"d\":4,\"e\":5,\"f\":6,\"g\":7,\"h\":8,\"i\":9,\"j\":10,\"k\":11,\"l\":12,\r\n",
    "        \"m\":13,\"n\":14,\"o\":15,\"p\":16,\"q\":17,\"r\":18,\"s\":19,\"t\":20,\"u\":21,\"v\":22,\"w\":23,\r\n",
    "        \"x\":24,\"y\":25,\"z\":26,\"?\" : 0}\r\n",
    "\r\n",
    "    b = {0:\"?\", 1: 'a', 2: 'b', 3: 'c', 4: 'd', 5: 'e', 6: 'f', 7: 'g', 8: 'h', 9: 'i', 10: 'j',\r\n",
    "        11: 'k', 12: 'l', 13: 'm', 14: 'n', 15: 'o', 16: 'p', 17: 'q', 18: 'r', 19: 's',\r\n",
    "        20: 't', 21: 'u', 22: 'v', 23: 'w', 24: 'x', 25: 'y', 26: 'z'}\r\n",
    "\r\n",
    "    special = list(\"!@#$%^&*()?~`\")\r\n",
    "    res = base64.b64decode(data).decode().split(\"|~|\")\r\n",
    "    random_num = int(\"\".join([str(a[x]) for x in list(res[1])]))\r\n",
    "    lst = [x for x in list(res[0]) if x not in special]\r\n",
    "\r\n",
    "    number_str = \"\"\r\n",
    "\r\n",
    "    for char in lst:\r\n",
    "        if char == \"0\":\r\n",
    "            number_str += \"0\"\r\n",
    "        else:\r\n",
    "            number_str += str(a[char])\r\n",
    "\r\n",
    "    number_str = Fraction(int(number_str))\r\n",
    "    random_num = Fraction(random_num)\r\n",
    "    real_num = number_str/random_num\r\n",
    "    get = str(real_num).split(\"0\")\r\n",
    "    return \"\".join([ b[int(x)] for x in get if x != \"\"])\r\n"
   ],
   "outputs": [],
   "metadata": {}
  },
  {
   "cell_type": "code",
   "execution_count": 206,
   "source": [
    "name = \"shikhar\"*10000\r\n",
    "\r\n",
    "s = time.time()\r\n",
    "encode = shikharEncode(name)\r\n",
    "print(time.time() - s)\r\n",
    "# print(encode)\r\n",
    "\r\n",
    "s = time.time()\r\n",
    "decode = shikharDecode(encode)\r\n",
    "print(time.time() - s)\r\n",
    "# print(decode)"
   ],
   "outputs": [
    {
     "output_type": "stream",
     "name": "stdout",
     "text": [
      "1.3695430755615234\n",
      "1.5559959411621094\n"
     ]
    }
   ],
   "metadata": {}
  },
  {
   "cell_type": "code",
   "execution_count": 3,
   "source": [
    "import hashlib\r\n",
    "hashlib.sha256(bytes(\"VARIFIED\",\"utf-8\")).digest()"
   ],
   "outputs": [
    {
     "output_type": "execute_result",
     "data": {
      "text/plain": [
       "b'\\xa7\\xfaZ4fl\\xe9\\xc7G\\x7f!\\xbc\\xfam<0cq\\xc9\\xabLp\\x88w\\xd3,h\\xd9\\xbau^J'"
      ]
     },
     "metadata": {},
     "execution_count": 3
    }
   ],
   "metadata": {}
  },
  {
   "cell_type": "code",
   "execution_count": 4,
   "source": [
    "import pickle\r\n",
    "\r\n",
    "def s():\r\n",
    "    print(\"hello\")\r\n",
    "print(s.__name__)\r\n",
    "\r\n",
    "qw = pickle.dumps(s)\r\n",
    "print(qw)\r\n",
    "\r\n",
    "a = pickle.loads(qw)\r\n",
    "print(a.__name__)\r\n",
    "a()"
   ],
   "outputs": [
    {
     "output_type": "stream",
     "name": "stdout",
     "text": [
      "s\n",
      "b'\\x80\\x04\\x95\\x12\\x00\\x00\\x00\\x00\\x00\\x00\\x00\\x8c\\x08__main__\\x94\\x8c\\x01s\\x94\\x93\\x94.'\n",
      "s\n",
      "hello\n"
     ]
    }
   ],
   "metadata": {}
  }
 ],
 "metadata": {
  "interpreter": {
   "hash": "25e2a8ee8c7bb164196f165366d6a6c6a3cd2260680e5087a26416e6138ee39b"
  },
  "kernelspec": {
   "name": "python3",
   "display_name": "Python 3.9.4 64-bit"
  },
  "language_info": {
   "name": "python",
   "version": "3.9.4",
   "mimetype": "text/x-python",
   "codemirror_mode": {
    "name": "ipython",
    "version": 3
   },
   "pygments_lexer": "ipython3",
   "nbconvert_exporter": "python",
   "file_extension": ".py"
  },
  "orig_nbformat": 4
 },
 "nbformat": 4,
 "nbformat_minor": 2
}